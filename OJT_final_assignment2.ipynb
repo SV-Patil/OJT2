{
 "cells": [
  {
   "cell_type": "markdown",
   "id": "3db61ea8-91a0-4052-8a5c-67f79509ea89",
   "metadata": {},
   "source": [
    "### Q2. Row echelon form\n",
    "Create a 5x5 matrix A with entries randomly choosen integers between 0 and 9. To generate the random matrix set the random seed as last two digit of roll number. Reduce matrix A to its row echelon form by performing elementary row operation."
   ]
  },
  {
   "cell_type": "code",
   "execution_count": 8,
   "id": "157491e7-2cae-48a6-8206-1d1978aeb47a",
   "metadata": {},
   "outputs": [],
   "source": [
    "import numpy as np\n",
    "import sympy as sp"
   ]
  },
  {
   "cell_type": "code",
   "execution_count": 9,
   "id": "2a06b6f7-8d4b-44f3-bbad-e50bdf07a384",
   "metadata": {},
   "outputs": [
    {
     "data": {
      "text/plain": [
       "array([[9, 9, 5, 1, 4],\n",
       "       [4, 9, 0, 0, 8],\n",
       "       [2, 4, 0, 1, 2],\n",
       "       [4, 0, 5, 2, 3],\n",
       "       [8, 2, 5, 9, 4]])"
      ]
     },
     "execution_count": 9,
     "metadata": {},
     "output_type": "execute_result"
    }
   ],
   "source": [
    "np.random.seed(16)\n",
    "A = np.random.randint(0,10,(5,5))\n",
    "A"
   ]
  },
  {
   "cell_type": "code",
   "execution_count": 10,
   "id": "264db103-b3da-445c-94bf-af43d9b07953",
   "metadata": {},
   "outputs": [
    {
     "name": "stdout",
     "output_type": "stream",
     "text": [
      "Reduced Row Echelon Form of A is\n",
      "\n"
     ]
    },
    {
     "data": {
      "text/latex": [
       "$\\displaystyle \\left[\\begin{matrix}1 & 0 & 0 & 0 & 0\\\\0 & 1 & 0 & 0 & 0\\\\0 & 0 & 1 & 0 & 0\\\\0 & 0 & 0 & 1 & 0\\\\0 & 0 & 0 & 0 & 1\\end{matrix}\\right]$"
      ],
      "text/plain": [
       "Matrix([\n",
       "[1, 0, 0, 0, 0],\n",
       "[0, 1, 0, 0, 0],\n",
       "[0, 0, 1, 0, 0],\n",
       "[0, 0, 0, 1, 0],\n",
       "[0, 0, 0, 0, 1]])"
      ]
     },
     "execution_count": 10,
     "metadata": {},
     "output_type": "execute_result"
    }
   ],
   "source": [
    "A = sp.Matrix(A)\n",
    "rrform_A = A.rref()\n",
    "rrf = rrform_A[0]\n",
    "print(\"Reduced Row Echelon Form of A is\\n\")\n",
    "rrf"
   ]
  },
  {
   "cell_type": "code",
   "execution_count": null,
   "id": "81802ec7-348e-445c-b39c-2006d8a69ab0",
   "metadata": {},
   "outputs": [],
   "source": []
  }
 ],
 "metadata": {
  "kernelspec": {
   "display_name": "Python 3 (ipykernel)",
   "language": "python",
   "name": "python3"
  },
  "language_info": {
   "codemirror_mode": {
    "name": "ipython",
    "version": 3
   },
   "file_extension": ".py",
   "mimetype": "text/x-python",
   "name": "python",
   "nbconvert_exporter": "python",
   "pygments_lexer": "ipython3",
   "version": "3.11.4"
  }
 },
 "nbformat": 4,
 "nbformat_minor": 5
}
